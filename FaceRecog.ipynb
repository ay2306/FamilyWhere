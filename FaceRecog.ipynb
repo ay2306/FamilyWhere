{
  "nbformat": 4,
  "nbformat_minor": 0,
  "metadata": {
    "colab": {
      "name": "FaceRecog.ipynb",
      "version": "0.3.2",
      "provenance": [],
      "collapsed_sections": []
    },
    "kernelspec": {
      "name": "python3",
      "display_name": "Python 3"
    },
    "accelerator": "GPU"
  },
  "cells": [
    {
      "metadata": {
        "id": "9tJHdep4blpx",
        "colab_type": "code",
        "colab": {
          "base_uri": "https://localhost:8080/",
          "height": 35
        },
        "outputId": "a1b7f5ed-ea00-4b6b-d939-64fa82865f70"
      },
      "cell_type": "code",
      "source": [
        "from keras.models import Sequential\n",
        "from keras.layers import Conv2D, ZeroPadding2D, Activation, Input, concatenate\n",
        "from keras.models import Model\n",
        "from keras.layers.normalization import BatchNormalization\n",
        "from keras.layers.pooling import MaxPooling2D, AveragePooling2D\n",
        "from keras.layers.merge import Concatenate\n",
        "from keras.layers.core import Lambda, Flatten, Dense\n",
        "from keras.initializers import glorot_uniform\n",
        "from keras.engine.topology import Layer\n",
        "from keras import backend as K\n",
        "K.set_image_data_format('channels_first')\n",
        "import cv2\n",
        "import os\n",
        "import numpy as np\n",
        "from numpy import genfromtxt\n",
        "import pandas as pd\n",
        "import tensorflow as tf\n",
        "from fr_utils import *\n",
        "from inception_blocks_v2 import *\n",
        "\n",
        "%matplotlib inline\n",
        "%load_ext autoreload\n",
        "%autoreload 2\n",
        "\n",
        "np.set_printoptions(threshold=np.nan)"
      ],
      "execution_count": 1,
      "outputs": [
        {
          "output_type": "stream",
          "text": [
            "Using TensorFlow backend.\n"
          ],
          "name": "stderr"
        }
      ]
    },
    {
      "metadata": {
        "id": "Q52fkchGjizC",
        "colab_type": "code",
        "colab": {}
      },
      "cell_type": "code",
      "source": [
        "%pylab inline\n",
        "import matplotlib.pyplot as plt\n",
        "import matplotlib.image as mpimg\n",
        "import PIL\n",
        "from PIL import Image\n",
        "import dlib\n",
        "from skimage import io\n",
        "import matplotlib.pyplot as plt\n"
      ],
      "execution_count": 0,
      "outputs": []
    },
    {
      "metadata": {
        "id": "4b_Suzbqjp1o",
        "colab_type": "code",
        "colab": {}
      },
      "cell_type": "code",
      "source": [
        "! git clone https://github.com/Skuldur/facenet-face-recognition.git"
      ],
      "execution_count": 0,
      "outputs": []
    },
    {
      "metadata": {
        "id": "iJ_VXGUeb5QP",
        "colab_type": "code",
        "colab": {}
      },
      "cell_type": "code",
      "source": [
        "FRmodel = faceRecoModel(input_shape=(3, 96, 96))"
      ],
      "execution_count": 0,
      "outputs": []
    },
    {
      "metadata": {
        "id": "EU33Cf_bcCMS",
        "colab_type": "code",
        "colab": {
          "base_uri": "https://localhost:8080/",
          "height": 35
        },
        "outputId": "c01c4a61-27c1-47e0-e083-071d5575d0bd"
      },
      "cell_type": "code",
      "source": [
        "print(\"Total Params:\", FRmodel.count_params())"
      ],
      "execution_count": 3,
      "outputs": [
        {
          "output_type": "stream",
          "text": [
            "Total Params: 3743280\n"
          ],
          "name": "stdout"
        }
      ]
    },
    {
      "metadata": {
        "id": "K2UFcfAVcGEW",
        "colab_type": "code",
        "colab": {}
      },
      "cell_type": "code",
      "source": [
        "def triplet_loss(y_true, y_pred, alpha = 0.2):\n",
        "    anchor, positive, negative = y_pred[0], y_pred[1], y_pred[2]\n",
        "    pos_dist = tf.reduce_sum(tf.square(anchor - positive), axis=-1)\n",
        "    neg_dist = tf.reduce_sum(tf.square(anchor - negative), axis=-1)\n",
        "    basic_loss = pos_dist - neg_dist + alpha\n",
        "    loss = tf.reduce_sum(tf.maximum(basic_loss, 0.0))    \n",
        "    return loss"
      ],
      "execution_count": 0,
      "outputs": []
    },
    {
      "metadata": {
        "id": "di9fP9ZScJld",
        "colab_type": "code",
        "colab": {}
      },
      "cell_type": "code",
      "source": [
        "FRmodel.compile(optimizer = 'adam', loss = triplet_loss, metrics = ['accuracy'])"
      ],
      "execution_count": 0,
      "outputs": []
    },
    {
      "metadata": {
        "id": "Xa8F8K3IcL6T",
        "colab_type": "code",
        "colab": {}
      },
      "cell_type": "code",
      "source": [
        "load_weights_from_FaceNet(FRmodel)"
      ],
      "execution_count": 0,
      "outputs": []
    },
    {
      "metadata": {
        "id": "IEpFOGA4kFGK",
        "colab_type": "code",
        "colab": {}
      },
      "cell_type": "code",
      "source": [
        "def save_to_database(image_name):\n",
        "    image = io.imread(image_name)\n",
        "    face_detector = dlib.get_frontal_face_detector()\n",
        "    detected_faces = face_detector(image, 1)\n",
        "    face_frames = [(x.left(), x.top(), x.right(), x.bottom()) for x in detected_faces]\n",
        "    if len(face_frames) != 0:\n",
        "        face_rect = face_frames[0]\n",
        "        face = Image.fromarray(image).crop(face_rect)\n",
        "        img = face.resize((96,96), Image.ANTIALIAS)\n",
        "        img.save(image_name)\n",
        "    else:\n",
        "        img = Image.open(image_name)\n",
        "        img = img.resize((96,96), Image.ANTIALIAS)\n",
        "        img.save(image_name)"
      ],
      "execution_count": 0,
      "outputs": []
    },
    {
      "metadata": {
        "id": "onz1znPelERl",
        "colab_type": "code",
        "colab": {}
      },
      "cell_type": "code",
      "source": [
        "def who_is_it(image_path, database, model):\n",
        "    encoding = img_to_encoding(image_path, model)\n",
        "    min_dist = 100\n",
        "    \n",
        "    distances = []\n",
        "    for (name, db_enc) in database.items():\n",
        "        dist = np.linalg.norm(encoding - db_enc)\n",
        "        distances.append([dist, name])\n",
        "        if dist < min_dist:\n",
        "            min_dist = dist\n",
        "            identity = name\n",
        "    distances.sort()\n",
        "#     if min_dist > 0.80:\n",
        "#         print(\"Not in the database.\")\n",
        "#     else:\n",
        "    print(\"Here are top 3 guesses:\")\n",
        "    for i in range(4):\n",
        "        print(\"Guess \" + str(i+1) + \": \" + distances[i][1] + \" (Confidence: \" + str(round((1-distances[i][0])* 100,2)) + \"%)\")\n",
        "        #print (\"it's \" + str(identity) + \", the distance is \" + str(min_dist))\n",
        "#     print(distances)    \n",
        "#     return min_dist, identity                                                                                  "
      ],
      "execution_count": 0,
      "outputs": []
    },
    {
      "metadata": {
        "id": "fQMBJ8t0DgM8",
        "colab_type": "code",
        "colab": {}
      },
      "cell_type": "code",
      "source": [
        "def test_image(image_name):\n",
        "    image = io.imread(image_name)\n",
        "    face_detector = dlib.get_frontal_face_detector()\n",
        "    detected_faces = face_detector(image, 1)\n",
        "    face_frames = [(x.left(), x.top(), x.right(), x.bottom()) for x in detected_faces]\n",
        "    if len(face_frames) != 0:\n",
        "        face_rect = face_frames[0]\n",
        "        face = Image.fromarray(image).crop(face_rect)\n",
        "        img = face.resize((96,96), Image.ANTIALIAS)\n",
        "        img.save(image_name)\n",
        "    else:\n",
        "        img = Image.open(image_name)\n",
        "        img = img.resize((96,96), Image.ANTIALIAS)\n",
        "        img.save(image_name)\n",
        "#     imgplot = plt.imshow(img)\n",
        "#     plt.show()"
      ],
      "execution_count": 0,
      "outputs": []
    },
    {
      "metadata": {
        "id": "aqRTIlTZKC9D",
        "colab_type": "code",
        "colab": {}
      },
      "cell_type": "code",
      "source": [
        "user_ids = ['dhoni','kohli','dravid','sachin', 'user1', 'user2']\n",
        "database = {}"
      ],
      "execution_count": 0,
      "outputs": []
    },
    {
      "metadata": {
        "id": "hZtMVM_TKE-p",
        "colab_type": "code",
        "colab": {}
      },
      "cell_type": "code",
      "source": [
        "for id in user_ids:\n",
        "    filename = './' + str(id) + '.jpg'\n",
        "    save_to_database(filename)\n",
        "    database[str(id)] = img_to_encoding(filename, FRmodel)"
      ],
      "execution_count": 0,
      "outputs": []
    },
    {
      "metadata": {
        "id": "4vmPF1VgSJFF",
        "colab_type": "code",
        "colab": {}
      },
      "cell_type": "code",
      "source": [
        "def identify(filename):\n",
        "    test_image(filename)\n",
        "    who_is_it(filename, database, FRmodel)"
      ],
      "execution_count": 0,
      "outputs": []
    },
    {
      "metadata": {
        "id": "fPMAuPzSM4fe",
        "colab_type": "code",
        "colab": {
          "base_uri": "https://localhost:8080/",
          "height": 111
        },
        "outputId": "79a1701f-691a-4425-bc4e-585fc3036f95"
      },
      "cell_type": "code",
      "source": [
        "identify('./test2.jpg')"
      ],
      "execution_count": 165,
      "outputs": [
        {
          "output_type": "stream",
          "text": [
            "Here are top 3 guesses:\n",
            "Guess 1: user2 (Confidence: 10.56%)\n",
            "Guess 2: sachin (Confidence: -7.19%)\n",
            "Guess 3: dravid (Confidence: -8.29%)\n",
            "Guess 4: kohli (Confidence: -25.31%)\n"
          ],
          "name": "stdout"
        }
      ]
    },
    {
      "metadata": {
        "id": "KTnO1RmPSY1X",
        "colab_type": "code",
        "colab": {}
      },
      "cell_type": "code",
      "source": [
        ""
      ],
      "execution_count": 0,
      "outputs": []
    }
  ]
}